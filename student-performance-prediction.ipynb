{
 "cells": [
  {
   "cell_type": "raw",
   "id": "9ffe1be3",
   "metadata": {
    "_cell_guid": "b1076dfc-b9ad-4769-8c92-a6c4dae69d19",
    "_uuid": "8f2839f25d086af736a60e9eeb907d3b93b6e0e5",
    "jupyter": {
     "source_hidden": true
    },
    "papermill": {
     "duration": 0.014846,
     "end_time": "2023-06-17T23:39:12.410440",
     "exception": false,
     "start_time": "2023-06-17T23:39:12.395594",
     "status": "completed"
    },
    "tags": []
   },
   "source": [
    "# This Python 3 environment comes with many helpful analytics libraries installed\n",
    "# It is defined by the kaggle/python Docker image: https://github.com/kaggle/docker-python\n",
    "# For example, here's several helpful packages to load\n",
    "\n",
    "import numpy as np # linear algebra\n",
    "import pandas as pd # data processing, CSV file I/O (e.g. pd.read_csv)\n",
    "\n",
    "# Input data files are available in the read-only \"../input/\" directory\n",
    "# For example, running this (by clicking run or pressing Shift+Enter) will list all files under the input directory\n",
    "\n",
    "import os\n",
    "for dirname, _, filenames in os.walk('/kaggle/input'):\n",
    "    for filename in filenames:\n",
    "        print(os.path.join(dirname, filename))\n",
    "\n",
    "# You can write up to 20GB to the current directory (/kaggle/working/) that gets preserved as output when you create a version using \"Save & Run All\" \n",
    "# You can also write temporary files to /kaggle/temp/, but they won't be saved outside of the current session"
   ]
  },
  {
   "cell_type": "markdown",
   "id": "f95b0652",
   "metadata": {
    "papermill": {
     "duration": 0.014971,
     "end_time": "2023-06-17T23:39:12.440985",
     "exception": false,
     "start_time": "2023-06-17T23:39:12.426014",
     "status": "completed"
    },
    "tags": []
   },
   "source": []
  },
  {
   "cell_type": "code",
   "execution_count": 1,
   "id": "4d3cdf92",
   "metadata": {
    "execution": {
     "iopub.execute_input": "2023-06-17T23:39:12.473751Z",
     "iopub.status.busy": "2023-06-17T23:39:12.472303Z",
     "iopub.status.idle": "2023-06-17T23:39:12.502563Z",
     "shell.execute_reply": "2023-06-17T23:39:12.500878Z"
    },
    "papermill": {
     "duration": 0.05072,
     "end_time": "2023-06-17T23:39:12.506146",
     "exception": false,
     "start_time": "2023-06-17T23:39:12.455426",
     "status": "completed"
    },
    "tags": []
   },
   "outputs": [],
   "source": [
    "import pandas as pd\n",
    "import os\n",
    "for dirname, _, filenames in os.walk('/kaggle/input/student-performance-in-mathematics/exams.csv'):\n",
    "    for filename in filenames:\n",
    "        print(os.path.join(dirname, filename))"
   ]
  },
  {
   "cell_type": "markdown",
   "id": "eafab8d7",
   "metadata": {
    "papermill": {
     "duration": 0.012995,
     "end_time": "2023-06-17T23:39:12.533332",
     "exception": false,
     "start_time": "2023-06-17T23:39:12.520337",
     "status": "completed"
    },
    "tags": []
   },
   "source": []
  },
  {
   "cell_type": "code",
   "execution_count": 2,
   "id": "252cd08f",
   "metadata": {
    "execution": {
     "iopub.execute_input": "2023-06-17T23:39:12.564389Z",
     "iopub.status.busy": "2023-06-17T23:39:12.563940Z",
     "iopub.status.idle": "2023-06-17T23:39:12.595067Z",
     "shell.execute_reply": "2023-06-17T23:39:12.592371Z"
    },
    "papermill": {
     "duration": 0.05151,
     "end_time": "2023-06-17T23:39:12.598957",
     "exception": false,
     "start_time": "2023-06-17T23:39:12.547447",
     "status": "completed"
    },
    "tags": []
   },
   "outputs": [],
   "source": [
    "df=pd.read_csv('/kaggle/input/student-performance-in-mathematics/exams.csv')"
   ]
  },
  {
   "cell_type": "code",
   "execution_count": 3,
   "id": "84d57979",
   "metadata": {
    "execution": {
     "iopub.execute_input": "2023-06-17T23:39:12.630445Z",
     "iopub.status.busy": "2023-06-17T23:39:12.629940Z",
     "iopub.status.idle": "2023-06-17T23:39:12.669071Z",
     "shell.execute_reply": "2023-06-17T23:39:12.667477Z"
    },
    "papermill": {
     "duration": 0.057848,
     "end_time": "2023-06-17T23:39:12.672963",
     "exception": false,
     "start_time": "2023-06-17T23:39:12.615115",
     "status": "completed"
    },
    "tags": []
   },
   "outputs": [
    {
     "data": {
      "text/html": [
       "<div>\n",
       "<style scoped>\n",
       "    .dataframe tbody tr th:only-of-type {\n",
       "        vertical-align: middle;\n",
       "    }\n",
       "\n",
       "    .dataframe tbody tr th {\n",
       "        vertical-align: top;\n",
       "    }\n",
       "\n",
       "    .dataframe thead th {\n",
       "        text-align: right;\n",
       "    }\n",
       "</style>\n",
       "<table border=\"1\" class=\"dataframe\">\n",
       "  <thead>\n",
       "    <tr style=\"text-align: right;\">\n",
       "      <th></th>\n",
       "      <th>gender</th>\n",
       "      <th>race/ethnicity</th>\n",
       "      <th>parental level of education</th>\n",
       "      <th>lunch</th>\n",
       "      <th>test preparation course</th>\n",
       "      <th>math score</th>\n",
       "      <th>reading score</th>\n",
       "      <th>writing score</th>\n",
       "    </tr>\n",
       "  </thead>\n",
       "  <tbody>\n",
       "    <tr>\n",
       "      <th>0</th>\n",
       "      <td>female</td>\n",
       "      <td>group D</td>\n",
       "      <td>some college</td>\n",
       "      <td>standard</td>\n",
       "      <td>completed</td>\n",
       "      <td>59</td>\n",
       "      <td>70</td>\n",
       "      <td>78</td>\n",
       "    </tr>\n",
       "    <tr>\n",
       "      <th>1</th>\n",
       "      <td>male</td>\n",
       "      <td>group D</td>\n",
       "      <td>associate's degree</td>\n",
       "      <td>standard</td>\n",
       "      <td>none</td>\n",
       "      <td>96</td>\n",
       "      <td>93</td>\n",
       "      <td>87</td>\n",
       "    </tr>\n",
       "    <tr>\n",
       "      <th>2</th>\n",
       "      <td>female</td>\n",
       "      <td>group D</td>\n",
       "      <td>some college</td>\n",
       "      <td>free/reduced</td>\n",
       "      <td>none</td>\n",
       "      <td>57</td>\n",
       "      <td>76</td>\n",
       "      <td>77</td>\n",
       "    </tr>\n",
       "    <tr>\n",
       "      <th>3</th>\n",
       "      <td>male</td>\n",
       "      <td>group B</td>\n",
       "      <td>some college</td>\n",
       "      <td>free/reduced</td>\n",
       "      <td>none</td>\n",
       "      <td>70</td>\n",
       "      <td>70</td>\n",
       "      <td>63</td>\n",
       "    </tr>\n",
       "    <tr>\n",
       "      <th>4</th>\n",
       "      <td>female</td>\n",
       "      <td>group D</td>\n",
       "      <td>associate's degree</td>\n",
       "      <td>standard</td>\n",
       "      <td>none</td>\n",
       "      <td>83</td>\n",
       "      <td>85</td>\n",
       "      <td>86</td>\n",
       "    </tr>\n",
       "  </tbody>\n",
       "</table>\n",
       "</div>"
      ],
      "text/plain": [
       "   gender race/ethnicity parental level of education         lunch  \\\n",
       "0  female        group D                some college      standard   \n",
       "1    male        group D          associate's degree      standard   \n",
       "2  female        group D                some college  free/reduced   \n",
       "3    male        group B                some college  free/reduced   \n",
       "4  female        group D          associate's degree      standard   \n",
       "\n",
       "  test preparation course  math score  reading score  writing score  \n",
       "0               completed          59             70             78  \n",
       "1                    none          96             93             87  \n",
       "2                    none          57             76             77  \n",
       "3                    none          70             70             63  \n",
       "4                    none          83             85             86  "
      ]
     },
     "execution_count": 3,
     "metadata": {},
     "output_type": "execute_result"
    }
   ],
   "source": [
    "df.head()"
   ]
  },
  {
   "cell_type": "code",
   "execution_count": 4,
   "id": "8401896d",
   "metadata": {
    "execution": {
     "iopub.execute_input": "2023-06-17T23:39:12.704724Z",
     "iopub.status.busy": "2023-06-17T23:39:12.704216Z",
     "iopub.status.idle": "2023-06-17T23:39:12.714850Z",
     "shell.execute_reply": "2023-06-17T23:39:12.712587Z"
    },
    "papermill": {
     "duration": 0.030667,
     "end_time": "2023-06-17T23:39:12.718734",
     "exception": false,
     "start_time": "2023-06-17T23:39:12.688067",
     "status": "completed"
    },
    "tags": []
   },
   "outputs": [
    {
     "data": {
      "text/plain": [
       "(1000, 8)"
      ]
     },
     "execution_count": 4,
     "metadata": {},
     "output_type": "execute_result"
    }
   ],
   "source": [
    "df.shape"
   ]
  },
  {
   "cell_type": "code",
   "execution_count": null,
   "id": "5326a3a9",
   "metadata": {
    "papermill": {
     "duration": 0.014824,
     "end_time": "2023-06-17T23:39:12.747807",
     "exception": false,
     "start_time": "2023-06-17T23:39:12.732983",
     "status": "completed"
    },
    "tags": []
   },
   "outputs": [],
   "source": []
  },
  {
   "cell_type": "code",
   "execution_count": 5,
   "id": "951da39a",
   "metadata": {
    "execution": {
     "iopub.execute_input": "2023-06-17T23:39:12.779665Z",
     "iopub.status.busy": "2023-06-17T23:39:12.778750Z",
     "iopub.status.idle": "2023-06-17T23:39:12.794089Z",
     "shell.execute_reply": "2023-06-17T23:39:12.792514Z"
    },
    "papermill": {
     "duration": 0.035654,
     "end_time": "2023-06-17T23:39:12.797595",
     "exception": false,
     "start_time": "2023-06-17T23:39:12.761941",
     "status": "completed"
    },
    "tags": []
   },
   "outputs": [
    {
     "data": {
      "text/plain": [
       "gender                         0\n",
       "race/ethnicity                 0\n",
       "parental level of education    0\n",
       "lunch                          0\n",
       "test preparation course        0\n",
       "math score                     0\n",
       "reading score                  0\n",
       "writing score                  0\n",
       "dtype: int64"
      ]
     },
     "execution_count": 5,
     "metadata": {},
     "output_type": "execute_result"
    }
   ],
   "source": [
    "df.isnull().sum() # it seems there is no empty cell."
   ]
  },
  {
   "cell_type": "code",
   "execution_count": 6,
   "id": "6459e2e7",
   "metadata": {
    "execution": {
     "iopub.execute_input": "2023-06-17T23:39:12.828437Z",
     "iopub.status.busy": "2023-06-17T23:39:12.827995Z",
     "iopub.status.idle": "2023-06-17T23:39:12.847627Z",
     "shell.execute_reply": "2023-06-17T23:39:12.846076Z"
    },
    "jupyter": {
     "source_hidden": true
    },
    "papermill": {
     "duration": 0.040456,
     "end_time": "2023-06-17T23:39:12.852352",
     "exception": false,
     "start_time": "2023-06-17T23:39:12.811896",
     "status": "completed"
    },
    "tags": []
   },
   "outputs": [
    {
     "data": {
      "text/html": [
       "<div>\n",
       "<style scoped>\n",
       "    .dataframe tbody tr th:only-of-type {\n",
       "        vertical-align: middle;\n",
       "    }\n",
       "\n",
       "    .dataframe tbody tr th {\n",
       "        vertical-align: top;\n",
       "    }\n",
       "\n",
       "    .dataframe thead th {\n",
       "        text-align: right;\n",
       "    }\n",
       "</style>\n",
       "<table border=\"1\" class=\"dataframe\">\n",
       "  <thead>\n",
       "    <tr style=\"text-align: right;\">\n",
       "      <th></th>\n",
       "      <th>gender</th>\n",
       "      <th>race/ethnicity</th>\n",
       "      <th>parental level of education</th>\n",
       "      <th>lunch</th>\n",
       "      <th>test preparation course</th>\n",
       "      <th>math score</th>\n",
       "      <th>reading score</th>\n",
       "      <th>writing score</th>\n",
       "    </tr>\n",
       "  </thead>\n",
       "  <tbody>\n",
       "    <tr>\n",
       "      <th>995</th>\n",
       "      <td>male</td>\n",
       "      <td>group C</td>\n",
       "      <td>some college</td>\n",
       "      <td>standard</td>\n",
       "      <td>none</td>\n",
       "      <td>77</td>\n",
       "      <td>77</td>\n",
       "      <td>71</td>\n",
       "    </tr>\n",
       "    <tr>\n",
       "      <th>996</th>\n",
       "      <td>male</td>\n",
       "      <td>group C</td>\n",
       "      <td>some college</td>\n",
       "      <td>standard</td>\n",
       "      <td>none</td>\n",
       "      <td>80</td>\n",
       "      <td>66</td>\n",
       "      <td>66</td>\n",
       "    </tr>\n",
       "    <tr>\n",
       "      <th>997</th>\n",
       "      <td>female</td>\n",
       "      <td>group A</td>\n",
       "      <td>high school</td>\n",
       "      <td>standard</td>\n",
       "      <td>completed</td>\n",
       "      <td>67</td>\n",
       "      <td>86</td>\n",
       "      <td>86</td>\n",
       "    </tr>\n",
       "    <tr>\n",
       "      <th>998</th>\n",
       "      <td>male</td>\n",
       "      <td>group E</td>\n",
       "      <td>high school</td>\n",
       "      <td>standard</td>\n",
       "      <td>none</td>\n",
       "      <td>80</td>\n",
       "      <td>72</td>\n",
       "      <td>62</td>\n",
       "    </tr>\n",
       "    <tr>\n",
       "      <th>999</th>\n",
       "      <td>male</td>\n",
       "      <td>group D</td>\n",
       "      <td>high school</td>\n",
       "      <td>standard</td>\n",
       "      <td>none</td>\n",
       "      <td>58</td>\n",
       "      <td>47</td>\n",
       "      <td>45</td>\n",
       "    </tr>\n",
       "  </tbody>\n",
       "</table>\n",
       "</div>"
      ],
      "text/plain": [
       "     gender race/ethnicity parental level of education     lunch  \\\n",
       "995    male        group C                some college  standard   \n",
       "996    male        group C                some college  standard   \n",
       "997  female        group A                 high school  standard   \n",
       "998    male        group E                 high school  standard   \n",
       "999    male        group D                 high school  standard   \n",
       "\n",
       "    test preparation course  math score  reading score  writing score  \n",
       "995                    none          77             77             71  \n",
       "996                    none          80             66             66  \n",
       "997               completed          67             86             86  \n",
       "998                    none          80             72             62  \n",
       "999                    none          58             47             45  "
      ]
     },
     "execution_count": 6,
     "metadata": {},
     "output_type": "execute_result"
    }
   ],
   "source": [
    "df.tail()"
   ]
  },
  {
   "cell_type": "code",
   "execution_count": 7,
   "id": "f2f0dfbb",
   "metadata": {
    "execution": {
     "iopub.execute_input": "2023-06-17T23:39:12.885128Z",
     "iopub.status.busy": "2023-06-17T23:39:12.884652Z",
     "iopub.status.idle": "2023-06-17T23:39:12.925517Z",
     "shell.execute_reply": "2023-06-17T23:39:12.924167Z"
    },
    "papermill": {
     "duration": 0.061908,
     "end_time": "2023-06-17T23:39:12.929268",
     "exception": false,
     "start_time": "2023-06-17T23:39:12.867360",
     "status": "completed"
    },
    "tags": []
   },
   "outputs": [
    {
     "data": {
      "text/html": [
       "<div>\n",
       "<style scoped>\n",
       "    .dataframe tbody tr th:only-of-type {\n",
       "        vertical-align: middle;\n",
       "    }\n",
       "\n",
       "    .dataframe tbody tr th {\n",
       "        vertical-align: top;\n",
       "    }\n",
       "\n",
       "    .dataframe thead th {\n",
       "        text-align: right;\n",
       "    }\n",
       "</style>\n",
       "<table border=\"1\" class=\"dataframe\">\n",
       "  <thead>\n",
       "    <tr style=\"text-align: right;\">\n",
       "      <th></th>\n",
       "      <th>math score</th>\n",
       "      <th>reading score</th>\n",
       "      <th>writing score</th>\n",
       "    </tr>\n",
       "  </thead>\n",
       "  <tbody>\n",
       "    <tr>\n",
       "      <th>count</th>\n",
       "      <td>1000.000000</td>\n",
       "      <td>1000.000000</td>\n",
       "      <td>1000.000000</td>\n",
       "    </tr>\n",
       "    <tr>\n",
       "      <th>mean</th>\n",
       "      <td>67.810000</td>\n",
       "      <td>70.382000</td>\n",
       "      <td>69.140000</td>\n",
       "    </tr>\n",
       "    <tr>\n",
       "      <th>std</th>\n",
       "      <td>15.250196</td>\n",
       "      <td>14.107413</td>\n",
       "      <td>15.025917</td>\n",
       "    </tr>\n",
       "    <tr>\n",
       "      <th>min</th>\n",
       "      <td>15.000000</td>\n",
       "      <td>25.000000</td>\n",
       "      <td>15.000000</td>\n",
       "    </tr>\n",
       "    <tr>\n",
       "      <th>25%</th>\n",
       "      <td>58.000000</td>\n",
       "      <td>61.000000</td>\n",
       "      <td>59.000000</td>\n",
       "    </tr>\n",
       "    <tr>\n",
       "      <th>50%</th>\n",
       "      <td>68.000000</td>\n",
       "      <td>70.500000</td>\n",
       "      <td>70.000000</td>\n",
       "    </tr>\n",
       "    <tr>\n",
       "      <th>75%</th>\n",
       "      <td>79.250000</td>\n",
       "      <td>80.000000</td>\n",
       "      <td>80.000000</td>\n",
       "    </tr>\n",
       "    <tr>\n",
       "      <th>max</th>\n",
       "      <td>100.000000</td>\n",
       "      <td>100.000000</td>\n",
       "      <td>100.000000</td>\n",
       "    </tr>\n",
       "  </tbody>\n",
       "</table>\n",
       "</div>"
      ],
      "text/plain": [
       "        math score  reading score  writing score\n",
       "count  1000.000000    1000.000000    1000.000000\n",
       "mean     67.810000      70.382000      69.140000\n",
       "std      15.250196      14.107413      15.025917\n",
       "min      15.000000      25.000000      15.000000\n",
       "25%      58.000000      61.000000      59.000000\n",
       "50%      68.000000      70.500000      70.000000\n",
       "75%      79.250000      80.000000      80.000000\n",
       "max     100.000000     100.000000     100.000000"
      ]
     },
     "execution_count": 7,
     "metadata": {},
     "output_type": "execute_result"
    }
   ],
   "source": [
    "df.describe()"
   ]
  },
  {
   "cell_type": "code",
   "execution_count": 8,
   "id": "9eb11178",
   "metadata": {
    "execution": {
     "iopub.execute_input": "2023-06-17T23:39:12.961104Z",
     "iopub.status.busy": "2023-06-17T23:39:12.960670Z",
     "iopub.status.idle": "2023-06-17T23:39:12.968157Z",
     "shell.execute_reply": "2023-06-17T23:39:12.967111Z"
    },
    "papermill": {
     "duration": 0.028138,
     "end_time": "2023-06-17T23:39:12.971994",
     "exception": false,
     "start_time": "2023-06-17T23:39:12.943856",
     "status": "completed"
    },
    "tags": []
   },
   "outputs": [],
   "source": [
    "#i want to add an avarage score columns.\n",
    "df['avarage score']=df[['math score','reading score','writing score']].mean(axis=1)"
   ]
  },
  {
   "cell_type": "code",
   "execution_count": 9,
   "id": "1abc35a1",
   "metadata": {
    "execution": {
     "iopub.execute_input": "2023-06-17T23:39:13.003646Z",
     "iopub.status.busy": "2023-06-17T23:39:13.003160Z",
     "iopub.status.idle": "2023-06-17T23:39:13.034249Z",
     "shell.execute_reply": "2023-06-17T23:39:13.032790Z"
    },
    "papermill": {
     "duration": 0.0509,
     "end_time": "2023-06-17T23:39:13.037456",
     "exception": false,
     "start_time": "2023-06-17T23:39:12.986556",
     "status": "completed"
    },
    "tags": []
   },
   "outputs": [
    {
     "data": {
      "text/html": [
       "<div>\n",
       "<style scoped>\n",
       "    .dataframe tbody tr th:only-of-type {\n",
       "        vertical-align: middle;\n",
       "    }\n",
       "\n",
       "    .dataframe tbody tr th {\n",
       "        vertical-align: top;\n",
       "    }\n",
       "\n",
       "    .dataframe thead th {\n",
       "        text-align: right;\n",
       "    }\n",
       "</style>\n",
       "<table border=\"1\" class=\"dataframe\">\n",
       "  <thead>\n",
       "    <tr style=\"text-align: right;\">\n",
       "      <th></th>\n",
       "      <th>math score</th>\n",
       "      <th>reading score</th>\n",
       "      <th>writing score</th>\n",
       "      <th>avarage score</th>\n",
       "    </tr>\n",
       "  </thead>\n",
       "  <tbody>\n",
       "    <tr>\n",
       "      <th>count</th>\n",
       "      <td>1000.000000</td>\n",
       "      <td>1000.000000</td>\n",
       "      <td>1000.000000</td>\n",
       "      <td>1000.000000</td>\n",
       "    </tr>\n",
       "    <tr>\n",
       "      <th>mean</th>\n",
       "      <td>67.810000</td>\n",
       "      <td>70.382000</td>\n",
       "      <td>69.140000</td>\n",
       "      <td>69.110667</td>\n",
       "    </tr>\n",
       "    <tr>\n",
       "      <th>std</th>\n",
       "      <td>15.250196</td>\n",
       "      <td>14.107413</td>\n",
       "      <td>15.025917</td>\n",
       "      <td>14.027856</td>\n",
       "    </tr>\n",
       "    <tr>\n",
       "      <th>min</th>\n",
       "      <td>15.000000</td>\n",
       "      <td>25.000000</td>\n",
       "      <td>15.000000</td>\n",
       "      <td>20.000000</td>\n",
       "    </tr>\n",
       "    <tr>\n",
       "      <th>25%</th>\n",
       "      <td>58.000000</td>\n",
       "      <td>61.000000</td>\n",
       "      <td>59.000000</td>\n",
       "      <td>59.583333</td>\n",
       "    </tr>\n",
       "    <tr>\n",
       "      <th>50%</th>\n",
       "      <td>68.000000</td>\n",
       "      <td>70.500000</td>\n",
       "      <td>70.000000</td>\n",
       "      <td>69.666667</td>\n",
       "    </tr>\n",
       "    <tr>\n",
       "      <th>75%</th>\n",
       "      <td>79.250000</td>\n",
       "      <td>80.000000</td>\n",
       "      <td>80.000000</td>\n",
       "      <td>79.333333</td>\n",
       "    </tr>\n",
       "    <tr>\n",
       "      <th>max</th>\n",
       "      <td>100.000000</td>\n",
       "      <td>100.000000</td>\n",
       "      <td>100.000000</td>\n",
       "      <td>100.000000</td>\n",
       "    </tr>\n",
       "  </tbody>\n",
       "</table>\n",
       "</div>"
      ],
      "text/plain": [
       "        math score  reading score  writing score  avarage score\n",
       "count  1000.000000    1000.000000    1000.000000    1000.000000\n",
       "mean     67.810000      70.382000      69.140000      69.110667\n",
       "std      15.250196      14.107413      15.025917      14.027856\n",
       "min      15.000000      25.000000      15.000000      20.000000\n",
       "25%      58.000000      61.000000      59.000000      59.583333\n",
       "50%      68.000000      70.500000      70.000000      69.666667\n",
       "75%      79.250000      80.000000      80.000000      79.333333\n",
       "max     100.000000     100.000000     100.000000     100.000000"
      ]
     },
     "execution_count": 9,
     "metadata": {},
     "output_type": "execute_result"
    }
   ],
   "source": [
    "df.describe() "
   ]
  },
  {
   "cell_type": "code",
   "execution_count": 10,
   "id": "3b8dfa39",
   "metadata": {
    "execution": {
     "iopub.execute_input": "2023-06-17T23:39:13.068737Z",
     "iopub.status.busy": "2023-06-17T23:39:13.068278Z",
     "iopub.status.idle": "2023-06-17T23:39:13.090329Z",
     "shell.execute_reply": "2023-06-17T23:39:13.088713Z"
    },
    "papermill": {
     "duration": 0.041475,
     "end_time": "2023-06-17T23:39:13.093650",
     "exception": false,
     "start_time": "2023-06-17T23:39:13.052175",
     "status": "completed"
    },
    "tags": []
   },
   "outputs": [
    {
     "name": "stdout",
     "output_type": "stream",
     "text": [
      "<class 'pandas.core.frame.DataFrame'>\n",
      "RangeIndex: 1000 entries, 0 to 999\n",
      "Data columns (total 9 columns):\n",
      " #   Column                       Non-Null Count  Dtype  \n",
      "---  ------                       --------------  -----  \n",
      " 0   gender                       1000 non-null   object \n",
      " 1   race/ethnicity               1000 non-null   object \n",
      " 2   parental level of education  1000 non-null   object \n",
      " 3   lunch                        1000 non-null   object \n",
      " 4   test preparation course      1000 non-null   object \n",
      " 5   math score                   1000 non-null   int64  \n",
      " 6   reading score                1000 non-null   int64  \n",
      " 7   writing score                1000 non-null   int64  \n",
      " 8   avarage score                1000 non-null   float64\n",
      "dtypes: float64(1), int64(3), object(5)\n",
      "memory usage: 70.4+ KB\n"
     ]
    }
   ],
   "source": [
    "df.info() "
   ]
  },
  {
   "cell_type": "markdown",
   "id": "1e52b491",
   "metadata": {
    "papermill": {
     "duration": 0.014526,
     "end_time": "2023-06-17T23:39:13.123780",
     "exception": false,
     "start_time": "2023-06-17T23:39:13.109254",
     "status": "completed"
    },
    "tags": []
   },
   "source": [
    "To perform regression analysis, **it is necessary to convert categorical variables into numerical ones.** Let's begin by separating the categorical and numerical variables in the dataset.\n"
   ]
  },
  {
   "cell_type": "code",
   "execution_count": 11,
   "id": "aec7d32f",
   "metadata": {
    "execution": {
     "iopub.execute_input": "2023-06-17T23:39:13.159746Z",
     "iopub.status.busy": "2023-06-17T23:39:13.159216Z",
     "iopub.status.idle": "2023-06-17T23:39:13.169126Z",
     "shell.execute_reply": "2023-06-17T23:39:13.167709Z"
    },
    "papermill": {
     "duration": 0.031456,
     "end_time": "2023-06-17T23:39:13.172451",
     "exception": false,
     "start_time": "2023-06-17T23:39:13.140995",
     "status": "completed"
    },
    "tags": []
   },
   "outputs": [],
   "source": [
    "categorical=df.drop(['math score','reading score', 'writing score','avarage score'], axis=1)\n",
    "numerical=df[['math score','reading score', 'writing score','avarage score']]"
   ]
  },
  {
   "cell_type": "code",
   "execution_count": 12,
   "id": "150464b4",
   "metadata": {
    "execution": {
     "iopub.execute_input": "2023-06-17T23:39:13.207897Z",
     "iopub.status.busy": "2023-06-17T23:39:13.207373Z",
     "iopub.status.idle": "2023-06-17T23:39:13.229682Z",
     "shell.execute_reply": "2023-06-17T23:39:13.227712Z"
    },
    "papermill": {
     "duration": 0.043155,
     "end_time": "2023-06-17T23:39:13.232630",
     "exception": false,
     "start_time": "2023-06-17T23:39:13.189475",
     "status": "completed"
    },
    "tags": []
   },
   "outputs": [
    {
     "data": {
      "text/html": [
       "<div>\n",
       "<style scoped>\n",
       "    .dataframe tbody tr th:only-of-type {\n",
       "        vertical-align: middle;\n",
       "    }\n",
       "\n",
       "    .dataframe tbody tr th {\n",
       "        vertical-align: top;\n",
       "    }\n",
       "\n",
       "    .dataframe thead th {\n",
       "        text-align: right;\n",
       "    }\n",
       "</style>\n",
       "<table border=\"1\" class=\"dataframe\">\n",
       "  <thead>\n",
       "    <tr style=\"text-align: right;\">\n",
       "      <th></th>\n",
       "      <th>gender</th>\n",
       "      <th>race/ethnicity</th>\n",
       "      <th>parental level of education</th>\n",
       "      <th>lunch</th>\n",
       "      <th>test preparation course</th>\n",
       "    </tr>\n",
       "  </thead>\n",
       "  <tbody>\n",
       "    <tr>\n",
       "      <th>0</th>\n",
       "      <td>female</td>\n",
       "      <td>group D</td>\n",
       "      <td>some college</td>\n",
       "      <td>standard</td>\n",
       "      <td>completed</td>\n",
       "    </tr>\n",
       "    <tr>\n",
       "      <th>1</th>\n",
       "      <td>male</td>\n",
       "      <td>group D</td>\n",
       "      <td>associate's degree</td>\n",
       "      <td>standard</td>\n",
       "      <td>none</td>\n",
       "    </tr>\n",
       "    <tr>\n",
       "      <th>2</th>\n",
       "      <td>female</td>\n",
       "      <td>group D</td>\n",
       "      <td>some college</td>\n",
       "      <td>free/reduced</td>\n",
       "      <td>none</td>\n",
       "    </tr>\n",
       "    <tr>\n",
       "      <th>3</th>\n",
       "      <td>male</td>\n",
       "      <td>group B</td>\n",
       "      <td>some college</td>\n",
       "      <td>free/reduced</td>\n",
       "      <td>none</td>\n",
       "    </tr>\n",
       "    <tr>\n",
       "      <th>4</th>\n",
       "      <td>female</td>\n",
       "      <td>group D</td>\n",
       "      <td>associate's degree</td>\n",
       "      <td>standard</td>\n",
       "      <td>none</td>\n",
       "    </tr>\n",
       "    <tr>\n",
       "      <th>...</th>\n",
       "      <td>...</td>\n",
       "      <td>...</td>\n",
       "      <td>...</td>\n",
       "      <td>...</td>\n",
       "      <td>...</td>\n",
       "    </tr>\n",
       "    <tr>\n",
       "      <th>995</th>\n",
       "      <td>male</td>\n",
       "      <td>group C</td>\n",
       "      <td>some college</td>\n",
       "      <td>standard</td>\n",
       "      <td>none</td>\n",
       "    </tr>\n",
       "    <tr>\n",
       "      <th>996</th>\n",
       "      <td>male</td>\n",
       "      <td>group C</td>\n",
       "      <td>some college</td>\n",
       "      <td>standard</td>\n",
       "      <td>none</td>\n",
       "    </tr>\n",
       "    <tr>\n",
       "      <th>997</th>\n",
       "      <td>female</td>\n",
       "      <td>group A</td>\n",
       "      <td>high school</td>\n",
       "      <td>standard</td>\n",
       "      <td>completed</td>\n",
       "    </tr>\n",
       "    <tr>\n",
       "      <th>998</th>\n",
       "      <td>male</td>\n",
       "      <td>group E</td>\n",
       "      <td>high school</td>\n",
       "      <td>standard</td>\n",
       "      <td>none</td>\n",
       "    </tr>\n",
       "    <tr>\n",
       "      <th>999</th>\n",
       "      <td>male</td>\n",
       "      <td>group D</td>\n",
       "      <td>high school</td>\n",
       "      <td>standard</td>\n",
       "      <td>none</td>\n",
       "    </tr>\n",
       "  </tbody>\n",
       "</table>\n",
       "<p>1000 rows × 5 columns</p>\n",
       "</div>"
      ],
      "text/plain": [
       "     gender race/ethnicity parental level of education         lunch  \\\n",
       "0    female        group D                some college      standard   \n",
       "1      male        group D          associate's degree      standard   \n",
       "2    female        group D                some college  free/reduced   \n",
       "3      male        group B                some college  free/reduced   \n",
       "4    female        group D          associate's degree      standard   \n",
       "..      ...            ...                         ...           ...   \n",
       "995    male        group C                some college      standard   \n",
       "996    male        group C                some college      standard   \n",
       "997  female        group A                 high school      standard   \n",
       "998    male        group E                 high school      standard   \n",
       "999    male        group D                 high school      standard   \n",
       "\n",
       "    test preparation course  \n",
       "0                 completed  \n",
       "1                      none  \n",
       "2                      none  \n",
       "3                      none  \n",
       "4                      none  \n",
       "..                      ...  \n",
       "995                    none  \n",
       "996                    none  \n",
       "997               completed  \n",
       "998                    none  \n",
       "999                    none  \n",
       "\n",
       "[1000 rows x 5 columns]"
      ]
     },
     "execution_count": 12,
     "metadata": {},
     "output_type": "execute_result"
    }
   ],
   "source": [
    "categorical"
   ]
  },
  {
   "cell_type": "code",
   "execution_count": 13,
   "id": "db35e2c5",
   "metadata": {
    "execution": {
     "iopub.execute_input": "2023-06-17T23:39:13.268403Z",
     "iopub.status.busy": "2023-06-17T23:39:13.267904Z",
     "iopub.status.idle": "2023-06-17T23:39:13.287815Z",
     "shell.execute_reply": "2023-06-17T23:39:13.286116Z"
    },
    "papermill": {
     "duration": 0.040284,
     "end_time": "2023-06-17T23:39:13.290678",
     "exception": false,
     "start_time": "2023-06-17T23:39:13.250394",
     "status": "completed"
    },
    "tags": []
   },
   "outputs": [
    {
     "data": {
      "text/html": [
       "<div>\n",
       "<style scoped>\n",
       "    .dataframe tbody tr th:only-of-type {\n",
       "        vertical-align: middle;\n",
       "    }\n",
       "\n",
       "    .dataframe tbody tr th {\n",
       "        vertical-align: top;\n",
       "    }\n",
       "\n",
       "    .dataframe thead th {\n",
       "        text-align: right;\n",
       "    }\n",
       "</style>\n",
       "<table border=\"1\" class=\"dataframe\">\n",
       "  <thead>\n",
       "    <tr style=\"text-align: right;\">\n",
       "      <th></th>\n",
       "      <th>math score</th>\n",
       "      <th>reading score</th>\n",
       "      <th>writing score</th>\n",
       "      <th>avarage score</th>\n",
       "    </tr>\n",
       "  </thead>\n",
       "  <tbody>\n",
       "    <tr>\n",
       "      <th>0</th>\n",
       "      <td>59</td>\n",
       "      <td>70</td>\n",
       "      <td>78</td>\n",
       "      <td>69.000000</td>\n",
       "    </tr>\n",
       "    <tr>\n",
       "      <th>1</th>\n",
       "      <td>96</td>\n",
       "      <td>93</td>\n",
       "      <td>87</td>\n",
       "      <td>92.000000</td>\n",
       "    </tr>\n",
       "    <tr>\n",
       "      <th>2</th>\n",
       "      <td>57</td>\n",
       "      <td>76</td>\n",
       "      <td>77</td>\n",
       "      <td>70.000000</td>\n",
       "    </tr>\n",
       "    <tr>\n",
       "      <th>3</th>\n",
       "      <td>70</td>\n",
       "      <td>70</td>\n",
       "      <td>63</td>\n",
       "      <td>67.666667</td>\n",
       "    </tr>\n",
       "    <tr>\n",
       "      <th>4</th>\n",
       "      <td>83</td>\n",
       "      <td>85</td>\n",
       "      <td>86</td>\n",
       "      <td>84.666667</td>\n",
       "    </tr>\n",
       "    <tr>\n",
       "      <th>...</th>\n",
       "      <td>...</td>\n",
       "      <td>...</td>\n",
       "      <td>...</td>\n",
       "      <td>...</td>\n",
       "    </tr>\n",
       "    <tr>\n",
       "      <th>995</th>\n",
       "      <td>77</td>\n",
       "      <td>77</td>\n",
       "      <td>71</td>\n",
       "      <td>75.000000</td>\n",
       "    </tr>\n",
       "    <tr>\n",
       "      <th>996</th>\n",
       "      <td>80</td>\n",
       "      <td>66</td>\n",
       "      <td>66</td>\n",
       "      <td>70.666667</td>\n",
       "    </tr>\n",
       "    <tr>\n",
       "      <th>997</th>\n",
       "      <td>67</td>\n",
       "      <td>86</td>\n",
       "      <td>86</td>\n",
       "      <td>79.666667</td>\n",
       "    </tr>\n",
       "    <tr>\n",
       "      <th>998</th>\n",
       "      <td>80</td>\n",
       "      <td>72</td>\n",
       "      <td>62</td>\n",
       "      <td>71.333333</td>\n",
       "    </tr>\n",
       "    <tr>\n",
       "      <th>999</th>\n",
       "      <td>58</td>\n",
       "      <td>47</td>\n",
       "      <td>45</td>\n",
       "      <td>50.000000</td>\n",
       "    </tr>\n",
       "  </tbody>\n",
       "</table>\n",
       "<p>1000 rows × 4 columns</p>\n",
       "</div>"
      ],
      "text/plain": [
       "     math score  reading score  writing score  avarage score\n",
       "0            59             70             78      69.000000\n",
       "1            96             93             87      92.000000\n",
       "2            57             76             77      70.000000\n",
       "3            70             70             63      67.666667\n",
       "4            83             85             86      84.666667\n",
       "..          ...            ...            ...            ...\n",
       "995          77             77             71      75.000000\n",
       "996          80             66             66      70.666667\n",
       "997          67             86             86      79.666667\n",
       "998          80             72             62      71.333333\n",
       "999          58             47             45      50.000000\n",
       "\n",
       "[1000 rows x 4 columns]"
      ]
     },
     "execution_count": 13,
     "metadata": {},
     "output_type": "execute_result"
    }
   ],
   "source": [
    "numerical"
   ]
  },
  {
   "cell_type": "code",
   "execution_count": 14,
   "id": "97a7e729",
   "metadata": {
    "execution": {
     "iopub.execute_input": "2023-06-17T23:39:13.326704Z",
     "iopub.status.busy": "2023-06-17T23:39:13.326222Z",
     "iopub.status.idle": "2023-06-17T23:39:13.339371Z",
     "shell.execute_reply": "2023-06-17T23:39:13.337220Z"
    },
    "papermill": {
     "duration": 0.035379,
     "end_time": "2023-06-17T23:39:13.342659",
     "exception": false,
     "start_time": "2023-06-17T23:39:13.307280",
     "status": "completed"
    },
    "tags": []
   },
   "outputs": [],
   "source": [
    "df1= categorical.apply(lambda x: pd.factorize(x)[0])\n"
   ]
  },
  {
   "cell_type": "code",
   "execution_count": 15,
   "id": "60cb93bf",
   "metadata": {
    "execution": {
     "iopub.execute_input": "2023-06-17T23:39:13.377565Z",
     "iopub.status.busy": "2023-06-17T23:39:13.377013Z",
     "iopub.status.idle": "2023-06-17T23:39:13.394666Z",
     "shell.execute_reply": "2023-06-17T23:39:13.393145Z"
    },
    "papermill": {
     "duration": 0.040122,
     "end_time": "2023-06-17T23:39:13.398357",
     "exception": false,
     "start_time": "2023-06-17T23:39:13.358235",
     "status": "completed"
    },
    "tags": []
   },
   "outputs": [
    {
     "data": {
      "text/html": [
       "<div>\n",
       "<style scoped>\n",
       "    .dataframe tbody tr th:only-of-type {\n",
       "        vertical-align: middle;\n",
       "    }\n",
       "\n",
       "    .dataframe tbody tr th {\n",
       "        vertical-align: top;\n",
       "    }\n",
       "\n",
       "    .dataframe thead th {\n",
       "        text-align: right;\n",
       "    }\n",
       "</style>\n",
       "<table border=\"1\" class=\"dataframe\">\n",
       "  <thead>\n",
       "    <tr style=\"text-align: right;\">\n",
       "      <th></th>\n",
       "      <th>gender</th>\n",
       "      <th>race/ethnicity</th>\n",
       "      <th>parental level of education</th>\n",
       "      <th>lunch</th>\n",
       "      <th>test preparation course</th>\n",
       "    </tr>\n",
       "  </thead>\n",
       "  <tbody>\n",
       "    <tr>\n",
       "      <th>0</th>\n",
       "      <td>0</td>\n",
       "      <td>0</td>\n",
       "      <td>0</td>\n",
       "      <td>0</td>\n",
       "      <td>0</td>\n",
       "    </tr>\n",
       "    <tr>\n",
       "      <th>1</th>\n",
       "      <td>1</td>\n",
       "      <td>0</td>\n",
       "      <td>1</td>\n",
       "      <td>0</td>\n",
       "      <td>1</td>\n",
       "    </tr>\n",
       "    <tr>\n",
       "      <th>2</th>\n",
       "      <td>0</td>\n",
       "      <td>0</td>\n",
       "      <td>0</td>\n",
       "      <td>1</td>\n",
       "      <td>1</td>\n",
       "    </tr>\n",
       "    <tr>\n",
       "      <th>3</th>\n",
       "      <td>1</td>\n",
       "      <td>1</td>\n",
       "      <td>0</td>\n",
       "      <td>1</td>\n",
       "      <td>1</td>\n",
       "    </tr>\n",
       "    <tr>\n",
       "      <th>4</th>\n",
       "      <td>0</td>\n",
       "      <td>0</td>\n",
       "      <td>1</td>\n",
       "      <td>0</td>\n",
       "      <td>1</td>\n",
       "    </tr>\n",
       "    <tr>\n",
       "      <th>...</th>\n",
       "      <td>...</td>\n",
       "      <td>...</td>\n",
       "      <td>...</td>\n",
       "      <td>...</td>\n",
       "      <td>...</td>\n",
       "    </tr>\n",
       "    <tr>\n",
       "      <th>995</th>\n",
       "      <td>1</td>\n",
       "      <td>2</td>\n",
       "      <td>0</td>\n",
       "      <td>0</td>\n",
       "      <td>1</td>\n",
       "    </tr>\n",
       "    <tr>\n",
       "      <th>996</th>\n",
       "      <td>1</td>\n",
       "      <td>2</td>\n",
       "      <td>0</td>\n",
       "      <td>0</td>\n",
       "      <td>1</td>\n",
       "    </tr>\n",
       "    <tr>\n",
       "      <th>997</th>\n",
       "      <td>0</td>\n",
       "      <td>4</td>\n",
       "      <td>5</td>\n",
       "      <td>0</td>\n",
       "      <td>0</td>\n",
       "    </tr>\n",
       "    <tr>\n",
       "      <th>998</th>\n",
       "      <td>1</td>\n",
       "      <td>3</td>\n",
       "      <td>5</td>\n",
       "      <td>0</td>\n",
       "      <td>1</td>\n",
       "    </tr>\n",
       "    <tr>\n",
       "      <th>999</th>\n",
       "      <td>1</td>\n",
       "      <td>0</td>\n",
       "      <td>5</td>\n",
       "      <td>0</td>\n",
       "      <td>1</td>\n",
       "    </tr>\n",
       "  </tbody>\n",
       "</table>\n",
       "<p>1000 rows × 5 columns</p>\n",
       "</div>"
      ],
      "text/plain": [
       "     gender  race/ethnicity  parental level of education  lunch  \\\n",
       "0         0               0                            0      0   \n",
       "1         1               0                            1      0   \n",
       "2         0               0                            0      1   \n",
       "3         1               1                            0      1   \n",
       "4         0               0                            1      0   \n",
       "..      ...             ...                          ...    ...   \n",
       "995       1               2                            0      0   \n",
       "996       1               2                            0      0   \n",
       "997       0               4                            5      0   \n",
       "998       1               3                            5      0   \n",
       "999       1               0                            5      0   \n",
       "\n",
       "     test preparation course  \n",
       "0                          0  \n",
       "1                          1  \n",
       "2                          1  \n",
       "3                          1  \n",
       "4                          1  \n",
       "..                       ...  \n",
       "995                        1  \n",
       "996                        1  \n",
       "997                        0  \n",
       "998                        1  \n",
       "999                        1  \n",
       "\n",
       "[1000 rows x 5 columns]"
      ]
     },
     "execution_count": 15,
     "metadata": {},
     "output_type": "execute_result"
    }
   ],
   "source": [
    "df1"
   ]
  },
  {
   "cell_type": "code",
   "execution_count": 16,
   "id": "d0ba5ed5",
   "metadata": {
    "execution": {
     "iopub.execute_input": "2023-06-17T23:39:13.434073Z",
     "iopub.status.busy": "2023-06-17T23:39:13.433632Z",
     "iopub.status.idle": "2023-06-17T23:39:13.441631Z",
     "shell.execute_reply": "2023-06-17T23:39:13.439331Z"
    },
    "papermill": {
     "duration": 0.029686,
     "end_time": "2023-06-17T23:39:13.444927",
     "exception": false,
     "start_time": "2023-06-17T23:39:13.415241",
     "status": "completed"
    },
    "tags": []
   },
   "outputs": [],
   "source": [
    "data=pd.concat([df1,numerical],axis=1,ignore_index=True)"
   ]
  },
  {
   "cell_type": "code",
   "execution_count": 17,
   "id": "8ee05625",
   "metadata": {
    "execution": {
     "iopub.execute_input": "2023-06-17T23:39:13.481193Z",
     "iopub.status.busy": "2023-06-17T23:39:13.480702Z",
     "iopub.status.idle": "2023-06-17T23:39:13.502200Z",
     "shell.execute_reply": "2023-06-17T23:39:13.500473Z"
    },
    "papermill": {
     "duration": 0.042825,
     "end_time": "2023-06-17T23:39:13.505267",
     "exception": false,
     "start_time": "2023-06-17T23:39:13.462442",
     "status": "completed"
    },
    "tags": []
   },
   "outputs": [
    {
     "data": {
      "text/html": [
       "<div>\n",
       "<style scoped>\n",
       "    .dataframe tbody tr th:only-of-type {\n",
       "        vertical-align: middle;\n",
       "    }\n",
       "\n",
       "    .dataframe tbody tr th {\n",
       "        vertical-align: top;\n",
       "    }\n",
       "\n",
       "    .dataframe thead th {\n",
       "        text-align: right;\n",
       "    }\n",
       "</style>\n",
       "<table border=\"1\" class=\"dataframe\">\n",
       "  <thead>\n",
       "    <tr style=\"text-align: right;\">\n",
       "      <th></th>\n",
       "      <th>0</th>\n",
       "      <th>1</th>\n",
       "      <th>2</th>\n",
       "      <th>3</th>\n",
       "      <th>4</th>\n",
       "      <th>5</th>\n",
       "      <th>6</th>\n",
       "      <th>7</th>\n",
       "      <th>8</th>\n",
       "    </tr>\n",
       "  </thead>\n",
       "  <tbody>\n",
       "    <tr>\n",
       "      <th>0</th>\n",
       "      <td>0</td>\n",
       "      <td>0</td>\n",
       "      <td>0</td>\n",
       "      <td>0</td>\n",
       "      <td>0</td>\n",
       "      <td>59</td>\n",
       "      <td>70</td>\n",
       "      <td>78</td>\n",
       "      <td>69.000000</td>\n",
       "    </tr>\n",
       "    <tr>\n",
       "      <th>1</th>\n",
       "      <td>1</td>\n",
       "      <td>0</td>\n",
       "      <td>1</td>\n",
       "      <td>0</td>\n",
       "      <td>1</td>\n",
       "      <td>96</td>\n",
       "      <td>93</td>\n",
       "      <td>87</td>\n",
       "      <td>92.000000</td>\n",
       "    </tr>\n",
       "    <tr>\n",
       "      <th>2</th>\n",
       "      <td>0</td>\n",
       "      <td>0</td>\n",
       "      <td>0</td>\n",
       "      <td>1</td>\n",
       "      <td>1</td>\n",
       "      <td>57</td>\n",
       "      <td>76</td>\n",
       "      <td>77</td>\n",
       "      <td>70.000000</td>\n",
       "    </tr>\n",
       "    <tr>\n",
       "      <th>3</th>\n",
       "      <td>1</td>\n",
       "      <td>1</td>\n",
       "      <td>0</td>\n",
       "      <td>1</td>\n",
       "      <td>1</td>\n",
       "      <td>70</td>\n",
       "      <td>70</td>\n",
       "      <td>63</td>\n",
       "      <td>67.666667</td>\n",
       "    </tr>\n",
       "    <tr>\n",
       "      <th>4</th>\n",
       "      <td>0</td>\n",
       "      <td>0</td>\n",
       "      <td>1</td>\n",
       "      <td>0</td>\n",
       "      <td>1</td>\n",
       "      <td>83</td>\n",
       "      <td>85</td>\n",
       "      <td>86</td>\n",
       "      <td>84.666667</td>\n",
       "    </tr>\n",
       "    <tr>\n",
       "      <th>...</th>\n",
       "      <td>...</td>\n",
       "      <td>...</td>\n",
       "      <td>...</td>\n",
       "      <td>...</td>\n",
       "      <td>...</td>\n",
       "      <td>...</td>\n",
       "      <td>...</td>\n",
       "      <td>...</td>\n",
       "      <td>...</td>\n",
       "    </tr>\n",
       "    <tr>\n",
       "      <th>995</th>\n",
       "      <td>1</td>\n",
       "      <td>2</td>\n",
       "      <td>0</td>\n",
       "      <td>0</td>\n",
       "      <td>1</td>\n",
       "      <td>77</td>\n",
       "      <td>77</td>\n",
       "      <td>71</td>\n",
       "      <td>75.000000</td>\n",
       "    </tr>\n",
       "    <tr>\n",
       "      <th>996</th>\n",
       "      <td>1</td>\n",
       "      <td>2</td>\n",
       "      <td>0</td>\n",
       "      <td>0</td>\n",
       "      <td>1</td>\n",
       "      <td>80</td>\n",
       "      <td>66</td>\n",
       "      <td>66</td>\n",
       "      <td>70.666667</td>\n",
       "    </tr>\n",
       "    <tr>\n",
       "      <th>997</th>\n",
       "      <td>0</td>\n",
       "      <td>4</td>\n",
       "      <td>5</td>\n",
       "      <td>0</td>\n",
       "      <td>0</td>\n",
       "      <td>67</td>\n",
       "      <td>86</td>\n",
       "      <td>86</td>\n",
       "      <td>79.666667</td>\n",
       "    </tr>\n",
       "    <tr>\n",
       "      <th>998</th>\n",
       "      <td>1</td>\n",
       "      <td>3</td>\n",
       "      <td>5</td>\n",
       "      <td>0</td>\n",
       "      <td>1</td>\n",
       "      <td>80</td>\n",
       "      <td>72</td>\n",
       "      <td>62</td>\n",
       "      <td>71.333333</td>\n",
       "    </tr>\n",
       "    <tr>\n",
       "      <th>999</th>\n",
       "      <td>1</td>\n",
       "      <td>0</td>\n",
       "      <td>5</td>\n",
       "      <td>0</td>\n",
       "      <td>1</td>\n",
       "      <td>58</td>\n",
       "      <td>47</td>\n",
       "      <td>45</td>\n",
       "      <td>50.000000</td>\n",
       "    </tr>\n",
       "  </tbody>\n",
       "</table>\n",
       "<p>1000 rows × 9 columns</p>\n",
       "</div>"
      ],
      "text/plain": [
       "     0  1  2  3  4   5   6   7          8\n",
       "0    0  0  0  0  0  59  70  78  69.000000\n",
       "1    1  0  1  0  1  96  93  87  92.000000\n",
       "2    0  0  0  1  1  57  76  77  70.000000\n",
       "3    1  1  0  1  1  70  70  63  67.666667\n",
       "4    0  0  1  0  1  83  85  86  84.666667\n",
       "..  .. .. .. .. ..  ..  ..  ..        ...\n",
       "995  1  2  0  0  1  77  77  71  75.000000\n",
       "996  1  2  0  0  1  80  66  66  70.666667\n",
       "997  0  4  5  0  0  67  86  86  79.666667\n",
       "998  1  3  5  0  1  80  72  62  71.333333\n",
       "999  1  0  5  0  1  58  47  45  50.000000\n",
       "\n",
       "[1000 rows x 9 columns]"
      ]
     },
     "execution_count": 17,
     "metadata": {},
     "output_type": "execute_result"
    }
   ],
   "source": [
    "data"
   ]
  },
  {
   "cell_type": "code",
   "execution_count": 18,
   "id": "1303af0a",
   "metadata": {
    "execution": {
     "iopub.execute_input": "2023-06-17T23:39:13.542902Z",
     "iopub.status.busy": "2023-06-17T23:39:13.541327Z",
     "iopub.status.idle": "2023-06-17T23:39:13.552187Z",
     "shell.execute_reply": "2023-06-17T23:39:13.550824Z"
    },
    "papermill": {
     "duration": 0.032985,
     "end_time": "2023-06-17T23:39:13.555967",
     "exception": false,
     "start_time": "2023-06-17T23:39:13.522982",
     "status": "completed"
    },
    "tags": []
   },
   "outputs": [],
   "source": [
    "new_columns_name={0:'gender',1:'race',2:'parent education',3:'lunch',4:'preparetion tests',5:'math',6:'reading',7:'writing',8:'avarage'}\n",
    "data=data.rename(columns=new_columns_name)"
   ]
  },
  {
   "cell_type": "code",
   "execution_count": 19,
   "id": "146cb943",
   "metadata": {
    "execution": {
     "iopub.execute_input": "2023-06-17T23:39:13.591308Z",
     "iopub.status.busy": "2023-06-17T23:39:13.590855Z",
     "iopub.status.idle": "2023-06-17T23:39:13.614192Z",
     "shell.execute_reply": "2023-06-17T23:39:13.612838Z"
    },
    "papermill": {
     "duration": 0.044304,
     "end_time": "2023-06-17T23:39:13.617015",
     "exception": false,
     "start_time": "2023-06-17T23:39:13.572711",
     "status": "completed"
    },
    "tags": []
   },
   "outputs": [
    {
     "data": {
      "text/html": [
       "<div>\n",
       "<style scoped>\n",
       "    .dataframe tbody tr th:only-of-type {\n",
       "        vertical-align: middle;\n",
       "    }\n",
       "\n",
       "    .dataframe tbody tr th {\n",
       "        vertical-align: top;\n",
       "    }\n",
       "\n",
       "    .dataframe thead th {\n",
       "        text-align: right;\n",
       "    }\n",
       "</style>\n",
       "<table border=\"1\" class=\"dataframe\">\n",
       "  <thead>\n",
       "    <tr style=\"text-align: right;\">\n",
       "      <th></th>\n",
       "      <th>gender</th>\n",
       "      <th>race</th>\n",
       "      <th>parent education</th>\n",
       "      <th>lunch</th>\n",
       "      <th>preparetion tests</th>\n",
       "      <th>math</th>\n",
       "      <th>reading</th>\n",
       "      <th>writing</th>\n",
       "      <th>avarage</th>\n",
       "    </tr>\n",
       "  </thead>\n",
       "  <tbody>\n",
       "    <tr>\n",
       "      <th>0</th>\n",
       "      <td>0</td>\n",
       "      <td>0</td>\n",
       "      <td>0</td>\n",
       "      <td>0</td>\n",
       "      <td>0</td>\n",
       "      <td>59</td>\n",
       "      <td>70</td>\n",
       "      <td>78</td>\n",
       "      <td>69.000000</td>\n",
       "    </tr>\n",
       "    <tr>\n",
       "      <th>1</th>\n",
       "      <td>1</td>\n",
       "      <td>0</td>\n",
       "      <td>1</td>\n",
       "      <td>0</td>\n",
       "      <td>1</td>\n",
       "      <td>96</td>\n",
       "      <td>93</td>\n",
       "      <td>87</td>\n",
       "      <td>92.000000</td>\n",
       "    </tr>\n",
       "    <tr>\n",
       "      <th>2</th>\n",
       "      <td>0</td>\n",
       "      <td>0</td>\n",
       "      <td>0</td>\n",
       "      <td>1</td>\n",
       "      <td>1</td>\n",
       "      <td>57</td>\n",
       "      <td>76</td>\n",
       "      <td>77</td>\n",
       "      <td>70.000000</td>\n",
       "    </tr>\n",
       "    <tr>\n",
       "      <th>3</th>\n",
       "      <td>1</td>\n",
       "      <td>1</td>\n",
       "      <td>0</td>\n",
       "      <td>1</td>\n",
       "      <td>1</td>\n",
       "      <td>70</td>\n",
       "      <td>70</td>\n",
       "      <td>63</td>\n",
       "      <td>67.666667</td>\n",
       "    </tr>\n",
       "    <tr>\n",
       "      <th>4</th>\n",
       "      <td>0</td>\n",
       "      <td>0</td>\n",
       "      <td>1</td>\n",
       "      <td>0</td>\n",
       "      <td>1</td>\n",
       "      <td>83</td>\n",
       "      <td>85</td>\n",
       "      <td>86</td>\n",
       "      <td>84.666667</td>\n",
       "    </tr>\n",
       "    <tr>\n",
       "      <th>...</th>\n",
       "      <td>...</td>\n",
       "      <td>...</td>\n",
       "      <td>...</td>\n",
       "      <td>...</td>\n",
       "      <td>...</td>\n",
       "      <td>...</td>\n",
       "      <td>...</td>\n",
       "      <td>...</td>\n",
       "      <td>...</td>\n",
       "    </tr>\n",
       "    <tr>\n",
       "      <th>995</th>\n",
       "      <td>1</td>\n",
       "      <td>2</td>\n",
       "      <td>0</td>\n",
       "      <td>0</td>\n",
       "      <td>1</td>\n",
       "      <td>77</td>\n",
       "      <td>77</td>\n",
       "      <td>71</td>\n",
       "      <td>75.000000</td>\n",
       "    </tr>\n",
       "    <tr>\n",
       "      <th>996</th>\n",
       "      <td>1</td>\n",
       "      <td>2</td>\n",
       "      <td>0</td>\n",
       "      <td>0</td>\n",
       "      <td>1</td>\n",
       "      <td>80</td>\n",
       "      <td>66</td>\n",
       "      <td>66</td>\n",
       "      <td>70.666667</td>\n",
       "    </tr>\n",
       "    <tr>\n",
       "      <th>997</th>\n",
       "      <td>0</td>\n",
       "      <td>4</td>\n",
       "      <td>5</td>\n",
       "      <td>0</td>\n",
       "      <td>0</td>\n",
       "      <td>67</td>\n",
       "      <td>86</td>\n",
       "      <td>86</td>\n",
       "      <td>79.666667</td>\n",
       "    </tr>\n",
       "    <tr>\n",
       "      <th>998</th>\n",
       "      <td>1</td>\n",
       "      <td>3</td>\n",
       "      <td>5</td>\n",
       "      <td>0</td>\n",
       "      <td>1</td>\n",
       "      <td>80</td>\n",
       "      <td>72</td>\n",
       "      <td>62</td>\n",
       "      <td>71.333333</td>\n",
       "    </tr>\n",
       "    <tr>\n",
       "      <th>999</th>\n",
       "      <td>1</td>\n",
       "      <td>0</td>\n",
       "      <td>5</td>\n",
       "      <td>0</td>\n",
       "      <td>1</td>\n",
       "      <td>58</td>\n",
       "      <td>47</td>\n",
       "      <td>45</td>\n",
       "      <td>50.000000</td>\n",
       "    </tr>\n",
       "  </tbody>\n",
       "</table>\n",
       "<p>1000 rows × 9 columns</p>\n",
       "</div>"
      ],
      "text/plain": [
       "     gender  race  parent education  lunch  preparetion tests  math  reading  \\\n",
       "0         0     0                 0      0                  0    59       70   \n",
       "1         1     0                 1      0                  1    96       93   \n",
       "2         0     0                 0      1                  1    57       76   \n",
       "3         1     1                 0      1                  1    70       70   \n",
       "4         0     0                 1      0                  1    83       85   \n",
       "..      ...   ...               ...    ...                ...   ...      ...   \n",
       "995       1     2                 0      0                  1    77       77   \n",
       "996       1     2                 0      0                  1    80       66   \n",
       "997       0     4                 5      0                  0    67       86   \n",
       "998       1     3                 5      0                  1    80       72   \n",
       "999       1     0                 5      0                  1    58       47   \n",
       "\n",
       "     writing    avarage  \n",
       "0         78  69.000000  \n",
       "1         87  92.000000  \n",
       "2         77  70.000000  \n",
       "3         63  67.666667  \n",
       "4         86  84.666667  \n",
       "..       ...        ...  \n",
       "995       71  75.000000  \n",
       "996       66  70.666667  \n",
       "997       86  79.666667  \n",
       "998       62  71.333333  \n",
       "999       45  50.000000  \n",
       "\n",
       "[1000 rows x 9 columns]"
      ]
     },
     "execution_count": 19,
     "metadata": {},
     "output_type": "execute_result"
    }
   ],
   "source": [
    "data\n"
   ]
  },
  {
   "cell_type": "code",
   "execution_count": null,
   "id": "45e4cc46",
   "metadata": {
    "papermill": {
     "duration": 0.01651,
     "end_time": "2023-06-17T23:39:13.650218",
     "exception": false,
     "start_time": "2023-06-17T23:39:13.633708",
     "status": "completed"
    },
    "tags": []
   },
   "outputs": [],
   "source": []
  },
  {
   "cell_type": "code",
   "execution_count": 20,
   "id": "543eae4e",
   "metadata": {
    "execution": {
     "iopub.execute_input": "2023-06-17T23:39:13.688927Z",
     "iopub.status.busy": "2023-06-17T23:39:13.687657Z",
     "iopub.status.idle": "2023-06-17T23:39:13.696984Z",
     "shell.execute_reply": "2023-06-17T23:39:13.695585Z"
    },
    "papermill": {
     "duration": 0.032653,
     "end_time": "2023-06-17T23:39:13.700344",
     "exception": false,
     "start_time": "2023-06-17T23:39:13.667691",
     "status": "completed"
    },
    "tags": []
   },
   "outputs": [],
   "source": [
    "x=data.drop(['avarage'],axis=1)\n",
    "y=data['avarage']"
   ]
  },
  {
   "cell_type": "code",
   "execution_count": 21,
   "id": "20207e62",
   "metadata": {
    "execution": {
     "iopub.execute_input": "2023-06-17T23:39:13.737695Z",
     "iopub.status.busy": "2023-06-17T23:39:13.736991Z",
     "iopub.status.idle": "2023-06-17T23:39:15.452009Z",
     "shell.execute_reply": "2023-06-17T23:39:15.450371Z"
    },
    "papermill": {
     "duration": 1.737418,
     "end_time": "2023-06-17T23:39:15.455297",
     "exception": false,
     "start_time": "2023-06-17T23:39:13.717879",
     "status": "completed"
    },
    "tags": []
   },
   "outputs": [],
   "source": [
    "from sklearn.model_selection import train_test_split\n",
    "from sklearn.linear_model import LinearRegression\n",
    "from sklearn.metrics import mean_squared_error,r2_score\n"
   ]
  },
  {
   "cell_type": "code",
   "execution_count": 22,
   "id": "1b1f5609",
   "metadata": {
    "execution": {
     "iopub.execute_input": "2023-06-17T23:39:15.493580Z",
     "iopub.status.busy": "2023-06-17T23:39:15.492611Z",
     "iopub.status.idle": "2023-06-17T23:39:15.501608Z",
     "shell.execute_reply": "2023-06-17T23:39:15.500367Z"
    },
    "papermill": {
     "duration": 0.032374,
     "end_time": "2023-06-17T23:39:15.504833",
     "exception": false,
     "start_time": "2023-06-17T23:39:15.472459",
     "status": "completed"
    },
    "tags": []
   },
   "outputs": [],
   "source": [
    "x_train, x_test, y_train, y_test = train_test_split(x, y, test_size=0.2, random_state=42)\n"
   ]
  },
  {
   "cell_type": "code",
   "execution_count": 23,
   "id": "8d296473",
   "metadata": {
    "execution": {
     "iopub.execute_input": "2023-06-17T23:39:15.542034Z",
     "iopub.status.busy": "2023-06-17T23:39:15.541108Z",
     "iopub.status.idle": "2023-06-17T23:39:15.573291Z",
     "shell.execute_reply": "2023-06-17T23:39:15.571467Z"
    },
    "papermill": {
     "duration": 0.054906,
     "end_time": "2023-06-17T23:39:15.577203",
     "exception": false,
     "start_time": "2023-06-17T23:39:15.522297",
     "status": "completed"
    },
    "tags": []
   },
   "outputs": [],
   "source": [
    "lr= LinearRegression()\n",
    "model=lr.fit(x_train, y_train)"
   ]
  },
  {
   "cell_type": "code",
   "execution_count": 24,
   "id": "7856c737",
   "metadata": {
    "execution": {
     "iopub.execute_input": "2023-06-17T23:39:15.614697Z",
     "iopub.status.busy": "2023-06-17T23:39:15.614254Z",
     "iopub.status.idle": "2023-06-17T23:39:15.622289Z",
     "shell.execute_reply": "2023-06-17T23:39:15.620861Z"
    },
    "papermill": {
     "duration": 0.030166,
     "end_time": "2023-06-17T23:39:15.625109",
     "exception": false,
     "start_time": "2023-06-17T23:39:15.594943",
     "status": "completed"
    },
    "tags": []
   },
   "outputs": [],
   "source": [
    "predict = model.predict(x_test)\n"
   ]
  },
  {
   "cell_type": "code",
   "execution_count": 25,
   "id": "858de71e",
   "metadata": {
    "execution": {
     "iopub.execute_input": "2023-06-17T23:39:15.663836Z",
     "iopub.status.busy": "2023-06-17T23:39:15.662823Z",
     "iopub.status.idle": "2023-06-17T23:39:15.673308Z",
     "shell.execute_reply": "2023-06-17T23:39:15.672127Z"
    },
    "papermill": {
     "duration": 0.032823,
     "end_time": "2023-06-17T23:39:15.676334",
     "exception": false,
     "start_time": "2023-06-17T23:39:15.643511",
     "status": "completed"
    },
    "tags": []
   },
   "outputs": [
    {
     "data": {
      "text/plain": [
       "1.380081798142998e-14"
      ]
     },
     "execution_count": 25,
     "metadata": {},
     "output_type": "execute_result"
    }
   ],
   "source": [
    "(mean_squared_error(predict,y_test))**0.5"
   ]
  },
  {
   "cell_type": "code",
   "execution_count": 26,
   "id": "481e86d4",
   "metadata": {
    "execution": {
     "iopub.execute_input": "2023-06-17T23:39:15.715981Z",
     "iopub.status.busy": "2023-06-17T23:39:15.715508Z",
     "iopub.status.idle": "2023-06-17T23:39:15.724438Z",
     "shell.execute_reply": "2023-06-17T23:39:15.723043Z"
    },
    "papermill": {
     "duration": 0.033284,
     "end_time": "2023-06-17T23:39:15.727367",
     "exception": false,
     "start_time": "2023-06-17T23:39:15.694083",
     "status": "completed"
    },
    "tags": []
   },
   "outputs": [
    {
     "data": {
      "text/plain": [
       "1.0"
      ]
     },
     "execution_count": 26,
     "metadata": {},
     "output_type": "execute_result"
    }
   ],
   "source": [
    "r2_score(predict,y_test)"
   ]
  },
  {
   "cell_type": "code",
   "execution_count": 27,
   "id": "50390f78",
   "metadata": {
    "execution": {
     "iopub.execute_input": "2023-06-17T23:39:15.763971Z",
     "iopub.status.busy": "2023-06-17T23:39:15.763046Z",
     "iopub.status.idle": "2023-06-17T23:39:15.769111Z",
     "shell.execute_reply": "2023-06-17T23:39:15.768021Z"
    },
    "papermill": {
     "duration": 0.027664,
     "end_time": "2023-06-17T23:39:15.771838",
     "exception": false,
     "start_time": "2023-06-17T23:39:15.744174",
     "status": "completed"
    },
    "tags": []
   },
   "outputs": [],
   "source": [
    "from sklearn.linear_model import Ridge, Lasso\n",
    "R=Ridge()\n",
    "L=Lasso()\n"
   ]
  },
  {
   "cell_type": "code",
   "execution_count": 28,
   "id": "ace8cfc9",
   "metadata": {
    "execution": {
     "iopub.execute_input": "2023-06-17T23:39:15.809680Z",
     "iopub.status.busy": "2023-06-17T23:39:15.809172Z",
     "iopub.status.idle": "2023-06-17T23:39:15.832451Z",
     "shell.execute_reply": "2023-06-17T23:39:15.831045Z"
    },
    "papermill": {
     "duration": 0.04582,
     "end_time": "2023-06-17T23:39:15.835519",
     "exception": false,
     "start_time": "2023-06-17T23:39:15.789699",
     "status": "completed"
    },
    "tags": []
   },
   "outputs": [
    {
     "data": {
      "text/plain": [
       "Ridge()"
      ]
     },
     "execution_count": 28,
     "metadata": {},
     "output_type": "execute_result"
    }
   ],
   "source": [
    "R.fit(x_train,y_train)"
   ]
  },
  {
   "cell_type": "code",
   "execution_count": 29,
   "id": "3344176c",
   "metadata": {
    "execution": {
     "iopub.execute_input": "2023-06-17T23:39:15.874277Z",
     "iopub.status.busy": "2023-06-17T23:39:15.873516Z",
     "iopub.status.idle": "2023-06-17T23:39:15.885213Z",
     "shell.execute_reply": "2023-06-17T23:39:15.883319Z"
    },
    "papermill": {
     "duration": 0.034488,
     "end_time": "2023-06-17T23:39:15.888680",
     "exception": false,
     "start_time": "2023-06-17T23:39:15.854192",
     "status": "completed"
    },
    "tags": []
   },
   "outputs": [
    {
     "data": {
      "text/plain": [
       "3.157147850848197e-05"
      ]
     },
     "execution_count": 29,
     "metadata": {},
     "output_type": "execute_result"
    }
   ],
   "source": [
    "predict2=R.predict(x_test)\n",
    "(mean_squared_error(predict2,y_test))**0.5"
   ]
  },
  {
   "cell_type": "code",
   "execution_count": 30,
   "id": "8d18c375",
   "metadata": {
    "execution": {
     "iopub.execute_input": "2023-06-17T23:39:15.934241Z",
     "iopub.status.busy": "2023-06-17T23:39:15.933764Z",
     "iopub.status.idle": "2023-06-17T23:39:15.945314Z",
     "shell.execute_reply": "2023-06-17T23:39:15.943472Z"
    },
    "papermill": {
     "duration": 0.038707,
     "end_time": "2023-06-17T23:39:15.948616",
     "exception": false,
     "start_time": "2023-06-17T23:39:15.909909",
     "status": "completed"
    },
    "tags": []
   },
   "outputs": [
    {
     "data": {
      "text/plain": [
       "0.9999999999941458"
      ]
     },
     "execution_count": 30,
     "metadata": {},
     "output_type": "execute_result"
    }
   ],
   "source": [
    "r2_score(predict2,y_test)"
   ]
  },
  {
   "cell_type": "code",
   "execution_count": 31,
   "id": "0f471b71",
   "metadata": {
    "execution": {
     "iopub.execute_input": "2023-06-17T23:39:15.987662Z",
     "iopub.status.busy": "2023-06-17T23:39:15.987170Z",
     "iopub.status.idle": "2023-06-17T23:39:16.003966Z",
     "shell.execute_reply": "2023-06-17T23:39:16.002784Z"
    },
    "papermill": {
     "duration": 0.040307,
     "end_time": "2023-06-17T23:39:16.007508",
     "exception": false,
     "start_time": "2023-06-17T23:39:15.967201",
     "status": "completed"
    },
    "tags": []
   },
   "outputs": [
    {
     "data": {
      "text/plain": [
       "Lasso()"
      ]
     },
     "execution_count": 31,
     "metadata": {},
     "output_type": "execute_result"
    }
   ],
   "source": [
    "L.fit(x_train,y_train)\n"
   ]
  },
  {
   "cell_type": "code",
   "execution_count": 32,
   "id": "4e304501",
   "metadata": {
    "execution": {
     "iopub.execute_input": "2023-06-17T23:39:16.045765Z",
     "iopub.status.busy": "2023-06-17T23:39:16.045270Z",
     "iopub.status.idle": "2023-06-17T23:39:16.054375Z",
     "shell.execute_reply": "2023-06-17T23:39:16.052863Z"
    },
    "papermill": {
     "duration": 0.031851,
     "end_time": "2023-06-17T23:39:16.057562",
     "exception": false,
     "start_time": "2023-06-17T23:39:16.025711",
     "status": "completed"
    },
    "tags": []
   },
   "outputs": [],
   "source": [
    "predict3=L.predict(x_test)\n"
   ]
  },
  {
   "cell_type": "code",
   "execution_count": 33,
   "id": "92b125f8",
   "metadata": {
    "execution": {
     "iopub.execute_input": "2023-06-17T23:39:16.095064Z",
     "iopub.status.busy": "2023-06-17T23:39:16.094603Z",
     "iopub.status.idle": "2023-06-17T23:39:16.105020Z",
     "shell.execute_reply": "2023-06-17T23:39:16.103044Z"
    },
    "papermill": {
     "duration": 0.033529,
     "end_time": "2023-06-17T23:39:16.108581",
     "exception": false,
     "start_time": "2023-06-17T23:39:16.075052",
     "status": "completed"
    },
    "tags": []
   },
   "outputs": [
    {
     "data": {
      "text/plain": [
       "0.06550775601362434"
      ]
     },
     "execution_count": 33,
     "metadata": {},
     "output_type": "execute_result"
    }
   ],
   "source": [
    "(mean_squared_error(predict3,y_test))**0.5\n"
   ]
  },
  {
   "cell_type": "code",
   "execution_count": 34,
   "id": "a63520db",
   "metadata": {
    "execution": {
     "iopub.execute_input": "2023-06-17T23:39:16.146360Z",
     "iopub.status.busy": "2023-06-17T23:39:16.145840Z",
     "iopub.status.idle": "2023-06-17T23:39:16.156449Z",
     "shell.execute_reply": "2023-06-17T23:39:16.154789Z"
    },
    "papermill": {
     "duration": 0.03322,
     "end_time": "2023-06-17T23:39:16.159633",
     "exception": false,
     "start_time": "2023-06-17T23:39:16.126413",
     "status": "completed"
    },
    "tags": []
   },
   "outputs": [
    {
     "data": {
      "text/plain": [
       "0.9999745461088234"
      ]
     },
     "execution_count": 34,
     "metadata": {},
     "output_type": "execute_result"
    }
   ],
   "source": [
    "r2_score(predict3,y_test)\n"
   ]
  },
  {
   "cell_type": "code",
   "execution_count": null,
   "id": "3ac22b13",
   "metadata": {
    "papermill": {
     "duration": 0.018193,
     "end_time": "2023-06-17T23:39:16.196757",
     "exception": false,
     "start_time": "2023-06-17T23:39:16.178564",
     "status": "completed"
    },
    "tags": []
   },
   "outputs": [],
   "source": []
  }
 ],
 "metadata": {
  "kernelspec": {
   "display_name": "Python 3",
   "language": "python",
   "name": "python3"
  },
  "language_info": {
   "codemirror_mode": {
    "name": "ipython",
    "version": 3
   },
   "file_extension": ".py",
   "mimetype": "text/x-python",
   "name": "python",
   "nbconvert_exporter": "python",
   "pygments_lexer": "ipython3",
   "version": "3.7.12"
  },
  "papermill": {
   "default_parameters": {},
   "duration": 22.11798,
   "end_time": "2023-06-17T23:39:17.041823",
   "environment_variables": {},
   "exception": null,
   "input_path": "__notebook__.ipynb",
   "output_path": "__notebook__.ipynb",
   "parameters": {},
   "start_time": "2023-06-17T23:38:54.923843",
   "version": "2.4.0"
  }
 },
 "nbformat": 4,
 "nbformat_minor": 5
}
